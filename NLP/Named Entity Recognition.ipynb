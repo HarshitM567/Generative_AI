{
 "cells": [
  {
   "metadata": {},
   "cell_type": "markdown",
   "source": [
    "Named Entity Recognition\n",
    "\n",
    "\n",
    "\n",
    " "
   ],
   "id": "2498e56b18e42413"
  },
  {
   "metadata": {
    "ExecuteTime": {
     "end_time": "2025-03-03T10:26:25.934686Z",
     "start_time": "2025-03-03T10:26:25.915696Z"
    }
   },
   "cell_type": "code",
   "source": [
    "sentence = \" The Eiffel Tower was built from 1887 to 1889 by French engineer Gustave Eiffel. It is a wrought-iron lattice tower on the Champ de Mars in Paris, France. It is named after the engineer Gustave Eiffel, whose company designed and built the tower.\"\n",
    "\"\"\"\n",
    "Person Eg: Harshit Mittal\n",
    "Place Eg: India\n",
    "Date Eg: March, 03-03-2025\n",
    "Time Eg: 4:00 PM\n",
    "Organization Eg: Microsoft\n",
    "Percent Eg: 18.75%, 18.75 percent\n",
    "\"\"\""
   ],
   "id": "b8f1c5d3e9cf0590",
   "outputs": [
    {
     "data": {
      "text/plain": [
       "'\\nPerson Eg: Harshit Mittal\\nPlace Eg: India\\nDate Eg: March, 03-03-2025\\nTime Eg: 4:00 PM\\nOrganization Eg: Microsoft\\nPercent Eg: 18.75%, 18.75 percent\\n'"
      ]
     },
     "execution_count": 1,
     "metadata": {},
     "output_type": "execute_result"
    }
   ],
   "execution_count": 1
  },
  {
   "metadata": {
    "ExecuteTime": {
     "end_time": "2025-03-03T10:29:31.442595Z",
     "start_time": "2025-03-03T10:29:26.385671Z"
    }
   },
   "cell_type": "code",
   "source": [
    "!pip install svgling\n",
    "sentence = \" The Eiffel Tower was built from 1887 to 1889 by French engineer Gustave Eiffel. It is a wrought-iron lattice tower on the Champ de Mars in Paris, France. It is named after the engineer Gustave Eiffel, whose company designed and built the tower.\""
   ],
   "id": "6094cfa77b73cdb3",
   "outputs": [
    {
     "name": "stdout",
     "output_type": "stream",
     "text": [
      "Collecting svgling\n",
      "  Downloading svgling-0.5.0-py3-none-any.whl.metadata (7.4 kB)\n",
      "Collecting svgwrite (from svgling)\n",
      "  Downloading svgwrite-1.4.3-py3-none-any.whl.metadata (8.8 kB)\n",
      "Downloading svgling-0.5.0-py3-none-any.whl (31 kB)\n",
      "Downloading svgwrite-1.4.3-py3-none-any.whl (67 kB)\n",
      "Installing collected packages: svgwrite, svgling\n",
      "Successfully installed svgling-0.5.0 svgwrite-1.4.3\n"
     ]
    },
    {
     "name": "stderr",
     "output_type": "stream",
     "text": [
      "DEPRECATION: Loading egg at c:\\users\\mitta\\appdata\\local\\programs\\python\\python312\\lib\\site-packages\\vboxapi-1.0-py3.12.egg is deprecated. pip 24.3 will enforce this behaviour change. A possible replacement is to use pip for package installation. Discussion can be found at https://github.com/pypa/pip/issues/12330\n",
      "\n",
      "[notice] A new release of pip is available: 24.2 -> 25.0.1\n",
      "[notice] To update, run: python.exe -m pip install --upgrade pip\n"
     ]
    }
   ],
   "execution_count": 8
  },
  {
   "metadata": {
    "ExecuteTime": {
     "end_time": "2025-03-03T10:29:35.991304Z",
     "start_time": "2025-03-03T10:29:35.972785Z"
    }
   },
   "cell_type": "code",
   "source": [
    "import nltk \n",
    "words = nltk.word_tokenize(sentence)"
   ],
   "id": "6c2c4e0b53fd6a4f",
   "outputs": [],
   "execution_count": 9
  },
  {
   "metadata": {
    "ExecuteTime": {
     "end_time": "2025-03-03T10:29:36.568993Z",
     "start_time": "2025-03-03T10:29:36.559044Z"
    }
   },
   "cell_type": "code",
   "source": "tag_elements = nltk.pos_tag(words)",
   "id": "96ef777cc5c662d2",
   "outputs": [],
   "execution_count": 10
  },
  {
   "metadata": {
    "ExecuteTime": {
     "end_time": "2025-03-03T10:32:02.122965Z",
     "start_time": "2025-03-03T10:30:48.540720Z"
    }
   },
   "cell_type": "code",
   "source": "nltk.ne_chunk(tag_elements).draw()",
   "id": "2c6e78ebbd5c0150",
   "outputs": [],
   "execution_count": 12
  },
  {
   "metadata": {},
   "cell_type": "code",
   "outputs": [],
   "execution_count": null,
   "source": "",
   "id": "40399bf923512802"
  }
 ],
 "metadata": {
  "kernelspec": {
   "display_name": "Python 3",
   "language": "python",
   "name": "python3"
  },
  "language_info": {
   "codemirror_mode": {
    "name": "ipython",
    "version": 2
   },
   "file_extension": ".py",
   "mimetype": "text/x-python",
   "name": "python",
   "nbconvert_exporter": "python",
   "pygments_lexer": "ipython2",
   "version": "2.7.6"
  }
 },
 "nbformat": 4,
 "nbformat_minor": 5
}
