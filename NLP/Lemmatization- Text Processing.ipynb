{
 "cells": [
  {
   "metadata": {},
   "cell_type": "markdown",
   "source": [
    "WordNet Lemmatizer\n",
    "\n",
    "Lemmatization is like stemming. The output we will get after lemmatization is called 'lemma', which is a root word rather than root stem. The output of lemmatization is a proper word. For example, the lemma of 'was' is 'be' and the lemma of 'mice' is 'mouse'. \n",
    "\n",
    "NLTK provides WordNet Lemmatizer that uses the WordNet Database to lookup lemmas of words.It uses morphy() function to find the lemma of a word."
   ],
   "id": "26b6b52a549ceb5c"
  },
  {
   "metadata": {
    "ExecuteTime": {
     "end_time": "2025-03-03T08:42:56.942831Z",
     "start_time": "2025-03-03T08:42:55.907265Z"
    }
   },
   "cell_type": "code",
   "source": [
    "## Q&A chatbots, text summarization, text classification, sentiment analysis, etc.\n",
    "from nltk.stem import WordNetLemmatizer"
   ],
   "id": "dd7ce53c44f0ae86",
   "outputs": [],
   "execution_count": 1
  },
  {
   "metadata": {
    "ExecuteTime": {
     "end_time": "2025-03-03T08:43:21.078459Z",
     "start_time": "2025-03-03T08:43:21.073142Z"
    }
   },
   "cell_type": "code",
   "source": "lemmatizer = WordNetLemmatizer()",
   "id": "aa41e9dac3ba4f26",
   "outputs": [],
   "execution_count": 2
  },
  {
   "metadata": {
    "ExecuteTime": {
     "end_time": "2025-03-03T08:47:30.971676Z",
     "start_time": "2025-03-03T08:47:30.956976Z"
    }
   },
   "cell_type": "code",
   "source": [
    "\"\"\"\n",
    "POS: Part of Speech\n",
    "Noun: n\n",
    "Verb: v\n",
    "Adjective: a\n",
    "Adverb: r\n",
    "\"\"\"\n",
    "lemmatizer.lemmatize(\"going\", pos='v')"
   ],
   "id": "461b260fba2e1de9",
   "outputs": [
    {
     "data": {
      "text/plain": [
       "'go'"
      ]
     },
     "execution_count": 11,
     "metadata": {},
     "output_type": "execute_result"
    }
   ],
   "execution_count": 11
  },
  {
   "metadata": {
    "ExecuteTime": {
     "end_time": "2025-03-03T08:52:42.200730Z",
     "start_time": "2025-03-03T08:52:42.193059Z"
    }
   },
   "cell_type": "code",
   "source": "words = [\"eating\", \"eats\", \"eaten\", \"writing\", \"writes\", \"programming\", \"programs\", \"history\", \"finally\", \"finalized\", \"congratulating\"]",
   "id": "7a6f53c618a56e78",
   "outputs": [],
   "execution_count": 18
  },
  {
   "metadata": {
    "ExecuteTime": {
     "end_time": "2025-03-03T08:52:44.188195Z",
     "start_time": "2025-03-03T08:52:44.177884Z"
    }
   },
   "cell_type": "code",
   "source": [
    "for word in words:\n",
    "    print(word+\"----->\"+lemmatizer.lemmatize(word, pos='v'))"
   ],
   "id": "f4b3aefb37951970",
   "outputs": [
    {
     "name": "stdout",
     "output_type": "stream",
     "text": [
      "eating----->eat\n",
      "eats----->eat\n",
      "eaten----->eat\n",
      "writing----->write\n",
      "writes----->write\n",
      "programming----->program\n",
      "programs----->program\n",
      "history----->history\n",
      "finally----->finally\n",
      "finalized----->finalize\n",
      "congratulating----->congratulate\n"
     ]
    }
   ],
   "execution_count": 19
  },
  {
   "metadata": {
    "ExecuteTime": {
     "end_time": "2025-03-03T08:54:13.675270Z",
     "start_time": "2025-03-03T08:54:13.662176Z"
    }
   },
   "cell_type": "code",
   "source": "lemmatizer.lemmatize(\"fairly\", pos='r')",
   "id": "6e0f4c3c7fda5c16",
   "outputs": [
    {
     "data": {
      "text/plain": [
       "'fairly'"
      ]
     },
     "execution_count": 24,
     "metadata": {},
     "output_type": "execute_result"
    }
   ],
   "execution_count": 24
  }
 ],
 "metadata": {
  "kernelspec": {
   "display_name": "Python 3",
   "language": "python",
   "name": "python3"
  },
  "language_info": {
   "codemirror_mode": {
    "name": "ipython",
    "version": 2
   },
   "file_extension": ".py",
   "mimetype": "text/x-python",
   "name": "python",
   "nbconvert_exporter": "python",
   "pygments_lexer": "ipython2",
   "version": "2.7.6"
  }
 },
 "nbformat": 4,
 "nbformat_minor": 5
}
