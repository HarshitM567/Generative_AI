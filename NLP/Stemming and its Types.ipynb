{
 "cells": [
  {
   "metadata": {},
   "cell_type": "markdown",
   "source": [
    "Stemming\n",
    "\n",
    "Stemming is the process of reducing a word to its word stem that affixes to suffixes and prefixes or to the roots of words known as a lemma. Stemming is important in natural language understanding (NLU) and natural language processing (NLP)."
   ],
   "id": "20f4c6bd72e6a439"
  },
  {
   "metadata": {
    "ExecuteTime": {
     "end_time": "2025-03-03T08:16:00.780388Z",
     "start_time": "2025-03-03T08:16:00.772369Z"
    }
   },
   "cell_type": "code",
   "source": "words = [\"game\", \"gaming\", \"gamed\", \"games\"]",
   "id": "c617260572a319ec",
   "outputs": [],
   "execution_count": 4
  },
  {
   "metadata": {},
   "cell_type": "markdown",
   "source": "PorterStemmer",
   "id": "f30e6d2476bca907"
  },
  {
   "metadata": {
    "ExecuteTime": {
     "end_time": "2025-03-03T08:16:03.058898Z",
     "start_time": "2025-03-03T08:16:03.050297Z"
    }
   },
   "cell_type": "code",
   "source": "from nltk.stem import PorterStemmer",
   "id": "de8944483da1a6d0",
   "outputs": [],
   "execution_count": 5
  },
  {
   "metadata": {
    "ExecuteTime": {
     "end_time": "2025-03-03T08:16:04.158417Z",
     "start_time": "2025-03-03T08:16:04.149709Z"
    }
   },
   "cell_type": "code",
   "source": "stemming = PorterStemmer()",
   "id": "d91652421d22d46a",
   "outputs": [],
   "execution_count": 6
  },
  {
   "metadata": {
    "ExecuteTime": {
     "end_time": "2025-03-03T08:16:05.397658Z",
     "start_time": "2025-03-03T08:16:05.384404Z"
    }
   },
   "cell_type": "code",
   "source": [
    "for word in words:\n",
    "    print(word+\"----->\"+stemming.stem(word))"
   ],
   "id": "b0cc980b604e0c1a",
   "outputs": [
    {
     "name": "stdout",
     "output_type": "stream",
     "text": [
      "game----->game\n",
      "gaming----->game\n",
      "gamed----->game\n",
      "games----->game\n"
     ]
    }
   ],
   "execution_count": 7
  },
  {
   "metadata": {
    "ExecuteTime": {
     "end_time": "2025-03-03T08:17:08.597330Z",
     "start_time": "2025-03-03T08:17:08.581119Z"
    }
   },
   "cell_type": "code",
   "source": "stemming.stem('Congratulations')",
   "id": "eb4745e9683b883b",
   "outputs": [
    {
     "data": {
      "text/plain": [
       "'congratul'"
      ]
     },
     "execution_count": 8,
     "metadata": {},
     "output_type": "execute_result"
    }
   ],
   "execution_count": 8
  },
  {
   "metadata": {},
   "cell_type": "markdown",
   "source": [
    "RegexStemmer Class\n",
    "\n",
    "NLTK has RegexpStemmer class that allows you to specify a regular expression for removing affixes. The RegexpStemmer class is a subclass of the StemmerI interface. The RegexpStemmer class is used to perform stemming by removing affixes using regular expressions."
   ],
   "id": "c34f42cc13cd68fd"
  },
  {
   "metadata": {
    "ExecuteTime": {
     "end_time": "2025-03-03T08:20:01.710494Z",
     "start_time": "2025-03-03T08:20:01.703478Z"
    }
   },
   "cell_type": "code",
   "source": "from nltk.stem import RegexpStemmer",
   "id": "c0c8217e71d69eab",
   "outputs": [],
   "execution_count": 9
  },
  {
   "metadata": {
    "ExecuteTime": {
     "end_time": "2025-03-03T08:24:46.134132Z",
     "start_time": "2025-03-03T08:24:46.125402Z"
    }
   },
   "cell_type": "code",
   "source": "reg_stemmer = RegexpStemmer('$ing|s$|e$|able$', min=4)",
   "id": "b21fca7c91e0c07c",
   "outputs": [],
   "execution_count": 15
  },
  {
   "metadata": {
    "ExecuteTime": {
     "end_time": "2025-03-03T08:24:48.110084Z",
     "start_time": "2025-03-03T08:24:48.094552Z"
    }
   },
   "cell_type": "code",
   "source": "reg_stemmer.stem('gaming')",
   "id": "5a5c12fc8b6b69ec",
   "outputs": [
    {
     "data": {
      "text/plain": [
       "'gaming'"
      ]
     },
     "execution_count": 16,
     "metadata": {},
     "output_type": "execute_result"
    }
   ],
   "execution_count": 16
  },
  {
   "metadata": {
    "ExecuteTime": {
     "end_time": "2025-03-03T08:24:50.891266Z",
     "start_time": "2025-03-03T08:24:50.877549Z"
    }
   },
   "cell_type": "code",
   "source": "reg_stemmer.stem('ingeating')",
   "id": "9bc27b4524e57752",
   "outputs": [
    {
     "data": {
      "text/plain": [
       "'ingeating'"
      ]
     },
     "execution_count": 17,
     "metadata": {},
     "output_type": "execute_result"
    }
   ],
   "execution_count": 17
  },
  {
   "metadata": {},
   "cell_type": "markdown",
   "source": [
    "Snowball Stemmer\n",
    "\n",
    "The Snowball Stemmer is a stemming algorithm that is more accurate and faster than the PorterStemmer. The Snowball Stemmer is based on the Porter Stemmer algorithm. The Snowball Stemmer is also known as the Porter2 Stemmer. The Snowball Stemmer supports 13 languages."
   ],
   "id": "390d0ede950753b4"
  },
  {
   "metadata": {
    "ExecuteTime": {
     "end_time": "2025-03-03T08:27:51.832786Z",
     "start_time": "2025-03-03T08:27:51.826912Z"
    }
   },
   "cell_type": "code",
   "source": "from nltk.stem import SnowballStemmer",
   "id": "14fb1d1c78d2566b",
   "outputs": [],
   "execution_count": 18
  },
  {
   "metadata": {
    "ExecuteTime": {
     "end_time": "2025-03-03T08:29:02.029910Z",
     "start_time": "2025-03-03T08:29:02.024601Z"
    }
   },
   "cell_type": "code",
   "source": "snowballstemmer = SnowballStemmer('english')",
   "id": "2a7ef1256657e8fa",
   "outputs": [],
   "execution_count": 20
  },
  {
   "metadata": {
    "ExecuteTime": {
     "end_time": "2025-03-03T08:30:21.865200Z",
     "start_time": "2025-03-03T08:30:21.858413Z"
    }
   },
   "cell_type": "code",
   "source": [
    "for word in words:\n",
    "    print(word+\"----->\"+snowballstemmer.stem(word))"
   ],
   "id": "270aef1aae99f9a4",
   "outputs": [
    {
     "name": "stdout",
     "output_type": "stream",
     "text": [
      "game----->game\n",
      "gaming----->game\n",
      "gamed----->game\n",
      "games----->game\n"
     ]
    }
   ],
   "execution_count": 22
  },
  {
   "metadata": {
    "ExecuteTime": {
     "end_time": "2025-03-03T08:31:22.737075Z",
     "start_time": "2025-03-03T08:31:22.719266Z"
    }
   },
   "cell_type": "code",
   "source": "stemming.stem('fairly'), stemming.stem('sportingly')",
   "id": "7ee6ce09e186d86",
   "outputs": [
    {
     "data": {
      "text/plain": [
       "('fairli', 'sportingli')"
      ]
     },
     "execution_count": 23,
     "metadata": {},
     "output_type": "execute_result"
    }
   ],
   "execution_count": 23
  },
  {
   "metadata": {
    "ExecuteTime": {
     "end_time": "2025-03-03T08:31:50.929049Z",
     "start_time": "2025-03-03T08:31:50.919282Z"
    }
   },
   "cell_type": "code",
   "source": "snowballstemmer.stem('fairly'), snowballstemmer.stem('sportingly')",
   "id": "61b5173c855ed89d",
   "outputs": [
    {
     "data": {
      "text/plain": [
       "('fair', 'sport')"
      ]
     },
     "execution_count": 24,
     "metadata": {},
     "output_type": "execute_result"
    }
   ],
   "execution_count": 24
  },
  {
   "metadata": {
    "ExecuteTime": {
     "end_time": "2025-03-03T08:36:11.931334Z",
     "start_time": "2025-03-03T08:36:11.911393Z"
    }
   },
   "cell_type": "code",
   "source": "snowballstemmer.stem('goes')",
   "id": "873eb88775435ef",
   "outputs": [
    {
     "data": {
      "text/plain": [
       "'goe'"
      ]
     },
     "execution_count": 26,
     "metadata": {},
     "output_type": "execute_result"
    }
   ],
   "execution_count": 26
  }
 ],
 "metadata": {
  "kernelspec": {
   "display_name": "Python 3",
   "language": "python",
   "name": "python3"
  },
  "language_info": {
   "codemirror_mode": {
    "name": "ipython",
    "version": 2
   },
   "file_extension": ".py",
   "mimetype": "text/x-python",
   "name": "python",
   "nbconvert_exporter": "python",
   "pygments_lexer": "ipython2",
   "version": "2.7.6"
  }
 },
 "nbformat": 4,
 "nbformat_minor": 5
}
